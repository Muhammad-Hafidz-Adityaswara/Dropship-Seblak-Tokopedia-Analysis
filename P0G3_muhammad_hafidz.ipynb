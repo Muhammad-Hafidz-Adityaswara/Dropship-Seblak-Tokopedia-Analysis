{
 "cells": [
  {
   "cell_type": "markdown",
   "metadata": {},
   "source": [
    "# **A. Import Libraries**"
   ]
  },
  {
   "cell_type": "code",
   "execution_count": 2,
   "metadata": {},
   "outputs": [],
   "source": [
    "from selenium import webdriver\n",
    "from bs4 import BeautifulSoup\n",
    "from scipy import stats\n",
    "import pandas as pd\n",
    "import numpy as np\n",
    "import requests\n",
    "import time"
   ]
  },
  {
   "cell_type": "markdown",
   "metadata": {},
   "source": [
    "# **B. Web Scraping**"
   ]
  },
  {
   "cell_type": "code",
   "execution_count": 5,
   "metadata": {},
   "outputs": [],
   "source": [
    "driver = webdriver.Chrome()\n",
    "\n",
    "# variable definition\n",
    "list_nama_produk = []\n",
    "list_harga_produk = []\n",
    "list_penjual = []\n",
    "list_kota = []\n",
    "list_barang_terjual = []\n",
    "list_rating = []\n",
    "\n",
    "# Repeat the Tokopedia page, starting from pages 1-10\n",
    "for i in range(1,11):\n",
    "    \n",
    "    # calling webdriver with link (url)\n",
    "    url = f'https://www.tokopedia.com/search?navsource=&page={i}&q=seblak&srp_component_id=02.01.00.00&srp_page_id=&srp_page_title=&st='\n",
    "    driver.get(url)\n",
    "\n",
    "    # scroll vertically down the page \n",
    "    total_height = int(driver.execute_script(\"return document.body.scrollHeight\"))\n",
    "    for i in range(1, total_height, 5):\n",
    "        driver.execute_script(\"window.scrollTo(0, {});\".format(i))\n",
    "\n",
    "    html = driver.page_source\n",
    "    soup = BeautifulSoup(html, 'html.parser')\n",
    "\n",
    "    boxes = soup.find_all('div', {'id':\"\" , 'class':\"pcv3__container css-1izdl9e\"})\n",
    "\n",
    "    for box in boxes:\n",
    "        # scraping item names\n",
    "        try:\n",
    "            nama_produk = box.find('div', {'class':\"prd_link-product-name css-3um8ox\"})\n",
    "            list_nama_produk.append(nama_produk.get_text())\n",
    "        except:\n",
    "            list_nama_produk.append(None)\n",
    "           \n",
    "        # scraping product prices\n",
    "        try:\n",
    "            harga_produk = box.find('div', {'class':\"prd_link-product-price css-h66vau\"})\n",
    "            list_harga_produk.append(harga_produk.get_text()) \n",
    "        except:\n",
    "            list_harga_produk.append(None)      \n",
    "            \n",
    "        # scraping shop name\n",
    "        try:\n",
    "            penjual = box.find('span', {'class':\"prd_link-shop-name css-1kdc32b flip\"})\n",
    "            list_penjual.append(penjual.get_text()) \n",
    "        except:\n",
    "            list_penjual.append(None) \n",
    "           \n",
    "        # scraping city\n",
    "        try:\n",
    "            kota_toko = box.find('span', {'class':\"prd_link-shop-loc css-1kdc32b flip\"})\n",
    "            list_kota.append(kota_toko.get_text()) \n",
    "        except:\n",
    "            list_kota.append(None) \n",
    "           \n",
    "        # scraping of sold products\n",
    "        try:\n",
    "            terjual = box.find('span', {'class':\"prd_label-integrity css-1sgek4h\"})\n",
    "            list_barang_terjual.append(terjual.get_text()) \n",
    "        except:\n",
    "            list_barang_terjual.append(None) \n",
    "          \n",
    "        # scraping product ratings\n",
    "        try:\n",
    "            rating = box.find('span', {'class':\"prd_rating-average-text css-t70v7i\"})\n",
    "            list_rating.append(rating.get_text()) \n",
    "        except:\n",
    "            list_rating.append(None) \n",
    "                \n",
    "    # sleep for 3 seconds\n",
    "    time.sleep(3)\n",
    "\n"
   ]
  },
  {
   "cell_type": "code",
   "execution_count": 6,
   "metadata": {},
   "outputs": [],
   "source": [
    "# create dataframe\n",
    "data = pd.DataFrame({'nama produk' : list_nama_produk,\n",
    "                     'harga' : list_harga_produk,\n",
    "                     'penjual' : list_penjual,\n",
    "                     'kota' : list_kota,\n",
    "                     'terjual' : list_barang_terjual,\n",
    "                     'rating' : list_rating\n",
    "                     })\n",
    "data.head()"
   ]
  },
  {
   "cell_type": "code",
   "execution_count": 7,
   "metadata": {},
   "outputs": [],
   "source": [
    "# create file .csv\n",
    "data.to_csv(\"data_tokopedia.csv\", index=False)"
   ]
  },
  {
   "cell_type": "markdown",
   "metadata": {},
   "source": [
    "# **C. Data Loading**"
   ]
  },
  {
   "cell_type": "code",
   "execution_count": 28,
   "metadata": {},
   "outputs": [
    {
     "data": {
      "text/html": [
       "<div>\n",
       "<style scoped>\n",
       "    .dataframe tbody tr th:only-of-type {\n",
       "        vertical-align: middle;\n",
       "    }\n",
       "\n",
       "    .dataframe tbody tr th {\n",
       "        vertical-align: top;\n",
       "    }\n",
       "\n",
       "    .dataframe thead th {\n",
       "        text-align: right;\n",
       "    }\n",
       "</style>\n",
       "<table border=\"1\" class=\"dataframe\">\n",
       "  <thead>\n",
       "    <tr style=\"text-align: right;\">\n",
       "      <th></th>\n",
       "      <th>nama produk</th>\n",
       "      <th>harga</th>\n",
       "      <th>penjual</th>\n",
       "      <th>kota</th>\n",
       "      <th>terjual</th>\n",
       "      <th>rating</th>\n",
       "    </tr>\n",
       "  </thead>\n",
       "  <tbody>\n",
       "    <tr>\n",
       "      <th>0</th>\n",
       "      <td>Kylafood Mix Fav Selebgram Seblak Original &amp; B...</td>\n",
       "      <td>Rp32.500</td>\n",
       "      <td>NaN</td>\n",
       "      <td>NaN</td>\n",
       "      <td>40+ terjual</td>\n",
       "      <td>4.4</td>\n",
       "    </tr>\n",
       "    <tr>\n",
       "      <th>1</th>\n",
       "      <td>Kylafood Seblak Tulang Rawan</td>\n",
       "      <td>Rp24.500</td>\n",
       "      <td>NaN</td>\n",
       "      <td>NaN</td>\n",
       "      <td>8 rb+ terjual</td>\n",
       "      <td>4.9</td>\n",
       "    </tr>\n",
       "    <tr>\n",
       "      <th>2</th>\n",
       "      <td>Kylafood Seblak Mie Baso Sapi Play</td>\n",
       "      <td>Rp21.450</td>\n",
       "      <td>NaN</td>\n",
       "      <td>NaN</td>\n",
       "      <td>250+ terjual</td>\n",
       "      <td>4.9</td>\n",
       "    </tr>\n",
       "    <tr>\n",
       "      <th>3</th>\n",
       "      <td>Gelifood Seblak Instan Kerupuk Mawar Bumbu Ken...</td>\n",
       "      <td>Rp13.000</td>\n",
       "      <td>Lidigeli</td>\n",
       "      <td>Kab. Garut</td>\n",
       "      <td>250+ terjual</td>\n",
       "      <td>4.8</td>\n",
       "    </tr>\n",
       "    <tr>\n",
       "      <th>4</th>\n",
       "      <td>Seblak Instan Ceu Nthien Khas Bandung Rasana N...</td>\n",
       "      <td>Rp17.000</td>\n",
       "      <td>Central Seblak Nusantara</td>\n",
       "      <td>Tangerang Selatan</td>\n",
       "      <td>2rb+ terjual</td>\n",
       "      <td>4.9</td>\n",
       "    </tr>\n",
       "  </tbody>\n",
       "</table>\n",
       "</div>"
      ],
      "text/plain": [
       "                                         nama produk     harga  \\\n",
       "0  Kylafood Mix Fav Selebgram Seblak Original & B...  Rp32.500   \n",
       "1                       Kylafood Seblak Tulang Rawan  Rp24.500   \n",
       "2                 Kylafood Seblak Mie Baso Sapi Play  Rp21.450   \n",
       "3  Gelifood Seblak Instan Kerupuk Mawar Bumbu Ken...  Rp13.000   \n",
       "4  Seblak Instan Ceu Nthien Khas Bandung Rasana N...  Rp17.000   \n",
       "\n",
       "                    penjual               kota        terjual  rating  \n",
       "0                       NaN                NaN    40+ terjual     4.4  \n",
       "1                       NaN                NaN  8 rb+ terjual     4.9  \n",
       "2                       NaN                NaN   250+ terjual     4.9  \n",
       "3                  Lidigeli         Kab. Garut   250+ terjual     4.8  \n",
       "4  Central Seblak Nusantara  Tangerang Selatan   2rb+ terjual     4.9  "
      ]
     },
     "execution_count": 28,
     "metadata": {},
     "output_type": "execute_result"
    }
   ],
   "source": [
    "# Load data\n",
    "dataset = pd.read_csv(\"data_tokopedia.csv\")\n",
    "dataset.head()"
   ]
  },
  {
   "cell_type": "markdown",
   "metadata": {},
   "source": [
    "Insight :  \n",
    "\n",
    "Pada dataset dari produk seblak di Tokopedia terdapat kolom:\n",
    "1. nama produk : nama produk yang dijual di Tokopedia\n",
    "2. harga : harga dari produk seblak\n",
    "3. penjual : nama toko yang menjual seblak\n",
    "4. kota : kota dari toko yang menjual seblak\n",
    "5. terjual : banyaknya produk terjual\n",
    "6. rating : review para pelanggan terhadap produk"
   ]
  },
  {
   "cell_type": "code",
   "execution_count": 6,
   "metadata": {},
   "outputs": [
    {
     "data": {
      "text/plain": [
       "(1081, 6)"
      ]
     },
     "execution_count": 6,
     "metadata": {},
     "output_type": "execute_result"
    }
   ],
   "source": [
    "dataset.shape"
   ]
  },
  {
   "cell_type": "code",
   "execution_count": 4,
   "metadata": {},
   "outputs": [
    {
     "name": "stdout",
     "output_type": "stream",
     "text": [
      "<class 'pandas.core.frame.DataFrame'>\n",
      "RangeIndex: 1081 entries, 0 to 1080\n",
      "Data columns (total 6 columns):\n",
      " #   Column       Non-Null Count  Dtype  \n",
      "---  ------       --------------  -----  \n",
      " 0   nama produk  1081 non-null   object \n",
      " 1   harga        1081 non-null   object \n",
      " 2   penjual      1055 non-null   object \n",
      " 3   kota         1055 non-null   object \n",
      " 4   terjual      1038 non-null   object \n",
      " 5   rating       1002 non-null   float64\n",
      "dtypes: float64(1), object(5)\n",
      "memory usage: 50.8+ KB\n"
     ]
    }
   ],
   "source": [
    "# Melihat info data\n",
    "dataset.info()"
   ]
  },
  {
   "cell_type": "markdown",
   "metadata": {},
   "source": [
    "**Information:**  \n",
    "In the dataset of seblak products on Tokopedia there are columns:\n",
    "1. nama produk : name of the product sold on Tokopedia\n",
    "2. harga : the price of the seblak product\n",
    "3. penjual : name of the shop that sells seblak\n",
    "4. kota : the city of the shop that sells seblak\n",
    "5. terjual : the number of products sold\n",
    "6. rating : customer reviews of the product\n",
    "\n",
    "**Insight:**  \n",
    "The seblak product dataset on Tokopedia has 1081 data. It has an object data type in the product name, price, seller, city and sold columns, and a float data type in the rating column."
   ]
  },
  {
   "cell_type": "markdown",
   "metadata": {},
   "source": [
    "# **D. Handling Missing Value**"
   ]
  },
  {
   "cell_type": "markdown",
   "metadata": {},
   "source": [
    "### **missing value check**"
   ]
  },
  {
   "cell_type": "code",
   "execution_count": 29,
   "metadata": {},
   "outputs": [
    {
     "data": {
      "text/plain": [
       "nama produk    False\n",
       "harga          False\n",
       "penjual         True\n",
       "kota            True\n",
       "terjual         True\n",
       "rating          True\n",
       "dtype: bool"
      ]
     },
     "execution_count": 29,
     "metadata": {},
     "output_type": "execute_result"
    }
   ],
   "source": [
    "dataset.isnull().any()"
   ]
  },
  {
   "cell_type": "code",
   "execution_count": 30,
   "metadata": {},
   "outputs": [
    {
     "data": {
      "text/plain": [
       "nama produk     0\n",
       "harga           0\n",
       "penjual        26\n",
       "kota           26\n",
       "terjual        43\n",
       "rating         79\n",
       "dtype: int64"
      ]
     },
     "execution_count": 30,
     "metadata": {},
     "output_type": "execute_result"
    }
   ],
   "source": [
    "dataset.isnull().sum()"
   ]
  },
  {
   "cell_type": "markdown",
   "metadata": {},
   "source": [
    "Insight :  \n",
    "\n",
    "There are null values ​​in this dataset, especially in the columns penjual, kota, terjual dan rating  "
   ]
  },
  {
   "cell_type": "markdown",
   "metadata": {},
   "source": [
    "### **cleaning data**"
   ]
  },
  {
   "cell_type": "code",
   "execution_count": 31,
   "metadata": {},
   "outputs": [],
   "source": [
    "# copy dataset \n",
    "df = dataset.copy()\n",
    "\n",
    "# Deleting null data\n",
    "df = df.dropna()"
   ]
  },
  {
   "cell_type": "code",
   "execution_count": 32,
   "metadata": {},
   "outputs": [],
   "source": [
    "# drop duplicated\n",
    "drop = df.drop_duplicates(keep='first', inplace=True)"
   ]
  },
  {
   "cell_type": "code",
   "execution_count": 36,
   "metadata": {},
   "outputs": [],
   "source": [
    "# clean value data\n",
    "df['harga'] =  df['harga'].str.replace('.' , '' )\n",
    "df['harga'] =  df['harga'].str.replace('Rp' , '' )\n",
    "df['harga'].replace('rb' , '000' ,regex=True, inplace=True)\n",
    "\n",
    "df['terjual'].replace('terjual' , '' ,regex=True, inplace=True)\n",
    "df['terjual'].replace('\\+' , '' ,regex=True, inplace=True)\n",
    "df['terjual'].replace('rb' , '000' ,regex=True, inplace=True)\n",
    "df['terjual'].replace(' ' , '' ,regex=True, inplace=True)\n"
   ]
  },
  {
   "cell_type": "code",
   "execution_count": 38,
   "metadata": {},
   "outputs": [
    {
     "name": "stdout",
     "output_type": "stream",
     "text": [
      "<class 'pandas.core.frame.DataFrame'>\n",
      "Index: 649 entries, 3 to 1050\n",
      "Data columns (total 6 columns):\n",
      " #   Column       Non-Null Count  Dtype  \n",
      "---  ------       --------------  -----  \n",
      " 0   nama produk  649 non-null    object \n",
      " 1   harga        649 non-null    int32  \n",
      " 2   penjual      649 non-null    object \n",
      " 3   kota         649 non-null    object \n",
      " 4   terjual      649 non-null    int32  \n",
      " 5   rating       649 non-null    float64\n",
      "dtypes: float64(1), int32(2), object(3)\n",
      "memory usage: 30.4+ KB\n"
     ]
    }
   ],
   "source": [
    "# change the data type \n",
    "df['harga'] = df['harga'].astype(int)\n",
    "df['terjual'] = df['terjual'].astype(int)\n",
    "\n",
    "df.info()"
   ]
  },
  {
   "cell_type": "markdown",
   "metadata": {},
   "source": [
    "Insight :  \n",
    "In this dataset, handling missing values, handling duplicated data, handling value data and changing data types have been carried out"
   ]
  },
  {
   "cell_type": "markdown",
   "metadata": {},
   "source": [
    "# **E. Business Understanding**"
   ]
  },
  {
   "cell_type": "markdown",
   "metadata": {},
   "source": [
    "### **SMART**\n",
    "\n",
    "1. Specific: Increase income by becoming a dropshipper for seblak products on Tokopedia.\n",
    "2. Measurable: Get income as a dropshipper of 7%.\n",
    "3. Achievable: Retrieve data using web scrapping and analyze product sales.\n",
    "4. Relevant: Cheap prices of goods can increase sales of goods. And if sales of goods increase, it will affect a good rating.\n",
    "5. Time-bound: increased income can be seen in the next 1 month."
   ]
  },
  {
   "cell_type": "markdown",
   "metadata": {},
   "source": [
    "# **F. Statistic analysis**"
   ]
  },
  {
   "cell_type": "markdown",
   "metadata": {},
   "source": [
    "###  **Mean, median, standard deviation, skewness, and kurtosis**"
   ]
  },
  {
   "cell_type": "code",
   "execution_count": 41,
   "metadata": {},
   "outputs": [
    {
     "name": "stdout",
     "output_type": "stream",
     "text": [
      "Mean with outliers is   : 23244.26194144838\n",
      "Median with outliers is : 15000.0\n",
      "\n",
      "Standard Deviation with outliers is : 25813.273793844386\n",
      "Skewness with outliers is           : 3.271526104170177\n",
      "Kurtosis with outliers is           : 14.212656397617856\n"
     ]
    }
   ],
   "source": [
    "# calculate the average (mean) and median (quartile 2)\n",
    "mean_harga = df.harga.mean()\n",
    "median_harga = df.harga.quantile(0.5)\n",
    "\n",
    "# calculate standard deviation (std), skewness (skew) and kurtosis (kurt)\n",
    "std_harga = df.harga.std()\n",
    "skew_harga = df.harga.skew()\n",
    "kurtosis_harga = df.harga.kurt()\n",
    "\n",
    "print(f'Mean with outliers is   : {mean_harga}')\n",
    "print(f'Median with outliers is : {median_harga}')\n",
    "print()\n",
    "print(f'Standard Deviation with outliers is : {std_harga}')\n",
    "print(f'Skewness with outliers is           : {skew_harga}')\n",
    "print(f'Kurtosis with outliers is           : {kurtosis_harga}')\n"
   ]
  },
  {
   "cell_type": "markdown",
   "metadata": {},
   "source": [
    "Insight:  \n",
    "\n",
    "The price column indicates that there are some very high values ​​that affect the average value. It was found that the data distribution was asymmetrical, which was skewed to the right (skewness), which had very skewness. It was also found that there was a very high level of sharpness in the data distribution (leptokurtic distribution). Judging from the standard deviation value, the distribution of the data is widely spread from the average, meaning the data varies\n",
    "\n",
    "This shows that the price data for seblak products on Tokopedia has an asymmetrical distribution and contains extreme values ​​or a lot of outlier data."
   ]
  },
  {
   "cell_type": "code",
   "execution_count": 42,
   "metadata": {},
   "outputs": [
    {
     "name": "stdout",
     "output_type": "stream",
     "text": [
      "Mean with outliers is   : 360.4191063174114\n",
      "Median with outliers is : 70.0\n",
      "\n",
      "Standard Deviation with outliers is : 1140.7160492177843\n",
      "Skewness with outliers is           : 6.449114208839196\n",
      "Kurtosis with outliers is           : 47.18210909106413\n"
     ]
    }
   ],
   "source": [
    "mean_terjual = df.terjual.mean()\n",
    "median_terjual = df.terjual.quantile(0.5)\n",
    "\n",
    "std_terjual = df.terjual.std()\n",
    "skew_terjual = df.terjual.skew()\n",
    "kurtosis_terjual = df.terjual.kurt()\n",
    "\n",
    "print(f'Mean with outliers is   : {mean_terjual}')\n",
    "print(f'Median with outliers is : {median_terjual}')\n",
    "print()\n",
    "print(f'Standard Deviation with outliers is : {std_terjual}')\n",
    "print(f'Skewness with outliers is           : {skew_terjual}')\n",
    "print(f'Kurtosis with outliers is           : {kurtosis_terjual}')\n"
   ]
  },
  {
   "cell_type": "markdown",
   "metadata": {},
   "source": [
    "Insight:\n",
    "\n",
    "The sold column indicates that there are some very high values ​​which affect the average value. It was found that the data distribution was asymmetrical, which was skewed to the right (skewness), which had very skewness. It was also found that there was a very high level of sharpness in the data distribution (leptokurtic distribution). Judging from the standard deviation value, the distribution of the data is widely spread from the average, meaning the data varies\n",
    "\n",
    "This shows that the sales data for seblak products on Tokopedia has an asymmetrical distribution and contains extreme values ​​or a lot of outlier data."
   ]
  },
  {
   "cell_type": "code",
   "execution_count": 43,
   "metadata": {},
   "outputs": [
    {
     "name": "stdout",
     "output_type": "stream",
     "text": [
      "Mean with outliers is   : 4.871494607087827\n",
      "Median with outliers is : 4.9\n",
      "\n",
      "Standard Deviation with outliers is : 0.2021590645845767\n",
      "Skewness with outliers is           : -5.9456674540171734\n",
      "Kurtosis with outliers is           : 66.62077791437515\n"
     ]
    }
   ],
   "source": [
    "# hitung rata-rata (mean) dan median(quartile 2)\n",
    "mean_rating = df.rating.mean()\n",
    "median_rating = df.rating.quantile(0.5)\n",
    "\n",
    "# menghitung standar deviasi (std), skewness(skew) dan kurtosis(kurt)\n",
    "std_rating = df.rating.std()\n",
    "skew_rating = df.rating.skew()\n",
    "kurtosis_rating = df.rating.kurt()\n",
    "\n",
    "print(f'Mean with outliers is   : {mean_rating}')\n",
    "print(f'Median with outliers is : {median_rating}')\n",
    "print()\n",
    "print(f'Standard Deviation with outliers is : {std_rating}')\n",
    "print(f'Skewness with outliers is           : {skew_rating}')\n",
    "print(f'Kurtosis with outliers is           : {kurtosis_rating}')\n"
   ]
  },
  {
   "cell_type": "markdown",
   "metadata": {},
   "source": [
    "Insight:\n",
    "\n",
    "In the sold column, the mean and median are quite close, indicating that the data distribution may tend to be symmetrical. It was also found in skewness that the value was negative, namely that the data distribution was very skewed to the left (skeweness). Also in kurtosis, a very high level of sharpness in the data distribution was found (leptokurtic distribution). Judging from the standard deviation value, the distribution of the data is less spread than the average, meaning the data is less varied\n",
    "\n",
    "This shows that the rating data for seblak products on Tokopedia has a fairly symmetrical distribution."
   ]
  },
  {
   "cell_type": "markdown",
   "metadata": {},
   "source": [
    "### **minimum and maximum potential income**"
   ]
  },
  {
   "cell_type": "code",
   "execution_count": 45,
   "metadata": {},
   "outputs": [
    {
     "name": "stdout",
     "output_type": "stream",
     "text": [
      "Lower value: 4708428.037375594\n",
      "Upper value: 8624135.64213134\n"
     ]
    }
   ],
   "source": [
    "# confidence interval to get the lower value and upper value of the population income distribution\n",
    "# Earn revenue by multiplying price by sold (price x sold)\n",
    "pendapatan =  df[\"harga\"] * df[\"terjual\"]\n",
    "std_pendapatan = pendapatan.std()\n",
    "\n",
    "N = len(df)\n",
    "low, up = stats.norm.interval(0.95,loc=pendapatan.mean(),scale=std_pendapatan/np.sqrt(N))\n",
    "print('Lower value:',low)\n",
    "print('Upper value:',up)"
   ]
  },
  {
   "cell_type": "code",
   "execution_count": 46,
   "metadata": {},
   "outputs": [
    {
     "name": "stdout",
     "output_type": "stream",
     "text": [
      "Minimum potential income 7%: 329589.9626162916\n",
      "Maximum potential income 7%: 603689.4949491938\n"
     ]
    }
   ],
   "source": [
    "# Calculates 7% of income\n",
    "komisi_low = low * 7/100\n",
    "komisi_upper = up * 7/100\n",
    "\n",
    "print(\"Minimum potential income 7%:\", komisi_low)\n",
    "print(\"Maximum potential income 7%:\", komisi_upper)"
   ]
  },
  {
   "cell_type": "markdown",
   "metadata": {},
   "source": [
    "Insight:\n",
    "\n",
    "Within 1 month,\n",
    "- The lowest value for selling seblak is IDR 4,708,428 with a minimum potential income of 7%, namely IDR 329,589.\n",
    "- And the top value from selling seblak is IDR 8,624,135 with a maximum potential income of 7%, namely IDR 603,689"
   ]
  },
  {
   "cell_type": "markdown",
   "metadata": {},
   "source": [
    "### **Hipotesis 1**\n",
    "**H0** = the price of goods in Jabodetabek and outside Jabodetabek is the same  \n",
    "**H1** = prices of goods in Jabodetabek and outside Jabodetabek are different"
   ]
  },
  {
   "cell_type": "code",
   "execution_count": 20,
   "metadata": {},
   "outputs": [],
   "source": [
    "# Defines Jabodetabek and Non_Jabodetabek variables\n",
    "Jabodetabek = []\n",
    "Non_Jabodetabek = []\n",
    "\n",
    "# If the city includes Jabodetabek then the Jabodetabek column will add a value of 1, otherwise the value is 0\n",
    "for x in df.kota:\n",
    "    if x == \"Jakarta Barat\" or x == \"Tangerang Selatan\" or x == \"Jakarta Selatan\" or x == \"Depok\" or x == \"Jakarta Timur\" or x == \"Kab. Bogor\" or x == \"Jakarta Pusat\" or x == \"Bekasi\" or x == \"Kab. Tangerang\" or x == \"Jakarta Utara\" or x == \"Kab. Bekasi\" or x == \"Tangerang\" or x == \"Bogor\" or x == \"\":\n",
    "        value = 1\n",
    "        Jabodetabek.append(value)\n",
    "    else :\n",
    "        value = 0\n",
    "        Jabodetabek.append(value)\n",
    "\n",
    "# If the city is non-jabodetabek then the non_jabodetabek column will add a value of 1, otherwise the value is 0\n",
    "for x in df.kota:\n",
    "    if x == \"Jakarta Barat\" or x == \"Tangerang Selatan\" or x == \"Jakarta Selatan\" or x == \"Depok\" or x == \"Jakarta Timur\" or x == \"Kab. Bogor\" or x == \"Jakarta Pusat\" or x == \"Bekasi\" or x == \"Kab. Tangerang\" or x == \"Jakarta Utara\" or x == \"Kab. Bekasi\" or x == \"Tangerang\" or x == \"Bogor\" or x == \"\":\n",
    "        value = 0\n",
    "        Non_Jabodetabek.append(value)\n",
    "    else :\n",
    "        value = 1\n",
    "        Non_Jabodetabek.append(value)\n",
    "\n",
    "# Enter the Jabodetabek and Non_Jabodetabek variables into the dataframe\n",
    "df[\"jabodetabek\"] = Jabodetabek\n",
    "df[\"non_jabodetabek\"] = Non_Jabodetabek"
   ]
  },
  {
   "cell_type": "code",
   "execution_count": 21,
   "metadata": {},
   "outputs": [
    {
     "name": "stdout",
     "output_type": "stream",
     "text": [
      "Rata-rata harga barang di Jabodetabek = 23097.238554216867\n",
      "Rata-rata harga barang di Non-Jabodetabek = 23505.008547008547\n"
     ]
    }
   ],
   "source": [
    "# Calculate the average price of products from Jabodetabek and non_jabodetabek\n",
    "print('Rata-rata harga barang di Jabodetabek =',df[df['jabodetabek']==1]['harga'].mean())\n",
    "print('Rata-rata harga barang di Non-Jabodetabek =',df[df['non_jabodetabek']==1]['harga'].mean())"
   ]
  },
  {
   "cell_type": "code",
   "execution_count": 22,
   "metadata": {},
   "outputs": [
    {
     "name": "stdout",
     "output_type": "stream",
     "text": [
      "T-Statistic: -0.19308963186200662\n",
      "P-value: 0.8469493692653455\n"
     ]
    }
   ],
   "source": [
    "# Test the hypothesis using the Two-Sample Independent Test\n",
    "t_stat, p_val = stats.ttest_ind(df[df['jabodetabek']==1]['harga'],df[df['non_jabodetabek']==1]['harga'])\n",
    "print('T-Statistic:',t_stat)\n",
    "print('P-value:',p_val) #"
   ]
  },
  {
   "cell_type": "markdown",
   "metadata": {},
   "source": [
    "Insight:\n",
    "\n",
    "The p-value obtained is greater than the significance level, namely 0.05. which can be interpreted that the null hypothesis (H0) is valid. There is not enough evidence to support the difference in prices of goods in Jabodetabek and outside Jabodetabek.\n",
    "\n",
    "This means that the prices of goods in Jabodetabek and outside Jabodetabek are the same\n"
   ]
  },
  {
   "cell_type": "markdown",
   "metadata": {},
   "source": [
    "### **Hipotesis 2**\n",
    "\n",
    "Buyers are more likely to like products that are cheap?"
   ]
  },
  {
   "cell_type": "code",
   "execution_count": 25,
   "metadata": {},
   "outputs": [
    {
     "name": "stdout",
     "output_type": "stream",
     "text": [
      "r-correlation: -0.06, p-value: 0.13851856759815787\n",
      "rho-correlation: -0.17, p-value: 9.725003313031936e-06\n",
      "tau-correlation: -0.12, p-value: 8.138656729922831e-06\n"
     ]
    }
   ],
   "source": [
    "# Testing the correlation between the number of items sold and the price of the item with Pearson, Spearman and Kendall Tau\n",
    "\n",
    "corr_r, pval_p = stats.pearsonr(df['harga'], df['terjual'])\n",
    "corr_rho, pval_s = stats.spearmanr(df['harga'], df['terjual'])\n",
    "corr_tau, pval_k = stats.kendalltau(df['harga'], df['terjual'])\n",
    "\n",
    "print(f\"r-correlation: {corr_r:.2f}, p-value: {pval_p}\")\n",
    "print(f\"rho-correlation: {corr_rho:.2f}, p-value: {pval_s}\")\n",
    "print(f\"tau-correlation: {corr_tau:.2f}, p-value: {pval_k}\")"
   ]
  },
  {
   "cell_type": "markdown",
   "metadata": {},
   "source": [
    "Insight:\n",
    "\n",
    "Based on the Pearson correlation, it shows a weak relationship between liking (amount sold) and low-priced products, but a p-value greater than 0.05 shows this relationship is not significant.\n",
    "\n",
    "However, the Spearman and Kendall Tau correlations show a moderate (negative) relationship with a small p-value (less than 0.05). In this case, there is quite strong evidence that people tend to like (sell more) products that are cheap."
   ]
  },
  {
   "cell_type": "code",
   "execution_count": 24,
   "metadata": {},
   "outputs": [
    {
     "name": "stdout",
     "output_type": "stream",
     "text": [
      "r-correlation: 0.07, p-value: 0.0716081215248508\n",
      "rho-correlation: 0.10, p-value: 0.009431285238520649\n",
      "tau-correlation: 0.08, p-value: 0.008896670459469022\n"
     ]
    }
   ],
   "source": [
    "# Testing the correlation between ratings and item prices with Pearson, Spearman and Kendall Tau\n",
    "\n",
    "corr_r, pval_p = stats.pearsonr(df['harga'], df['rating'])\n",
    "corr_rho, pval_s = stats.spearmanr(df['harga'], df['rating'])\n",
    "corr_tau, pval_k = stats.kendalltau(df['harga'], df['rating'])\n",
    "\n",
    "print(f\"r-correlation: {corr_r:.2f}, p-value: {pval_p}\")\n",
    "print(f\"rho-correlation: {corr_rho:.2f}, p-value: {pval_s}\")\n",
    "print(f\"tau-correlation: {corr_tau:.2f}, p-value: {pval_k}\")"
   ]
  },
  {
   "cell_type": "markdown",
   "metadata": {},
   "source": [
    "Insight:\n",
    "\n",
    "The three correlations show a moderate relationship between liking (rating) and low-priced products. And the correlation value obtained is positive, which means there is a positive tendency between liking (rating) and products that are cheap.\n",
    "\n",
    "It can be concluded that there is quite strong evidence that people tend to like (rating) products that are cheap"
   ]
  },
  {
   "cell_type": "markdown",
   "metadata": {},
   "source": [
    "# **G. Conclusion**"
   ]
  },
  {
   "cell_type": "markdown",
   "metadata": {},
   "source": [
    "1. You can increase your income by dropshipping seblak products on Tokopedia.\n",
    "2. You can sell seblak in Jabodetabek and outside Jabodetabek based on the same item price.\n",
    "3. You can also sell at a low price based on the level of favorability (lot of items sold and rating) of buyers towards the low price.\n",
    "4. In 1 month the potential income you will get is 7%, namely from IDR 329,589 to IDR 603,689"
   ]
  }
 ],
 "metadata": {
  "kernelspec": {
   "display_name": "base",
   "language": "python",
   "name": "python3"
  },
  "language_info": {
   "codemirror_mode": {
    "name": "ipython",
    "version": 3
   },
   "file_extension": ".py",
   "mimetype": "text/x-python",
   "name": "python",
   "nbconvert_exporter": "python",
   "pygments_lexer": "ipython3",
   "version": "3.11.5"
  }
 },
 "nbformat": 4,
 "nbformat_minor": 2
}
